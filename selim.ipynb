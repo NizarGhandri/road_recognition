{
  "nbformat": 4,
  "nbformat_minor": 0,
  "metadata": {
    "kernelspec": {
      "display_name": "Python 3",
      "language": "python",
      "name": "python3"
    },
    "language_info": {
      "codemirror_mode": {
        "name": "ipython",
        "version": 3
      },
      "file_extension": ".py",
      "mimetype": "text/x-python",
      "name": "python",
      "nbconvert_exporter": "python",
      "pygments_lexer": "ipython3",
      "version": "3.7.4"
    },
    "colab": {
      "name": "selim 2.ipynb",
      "provenance": [],
      "collapsed_sections": []
    }
  },
  "cells": [
    {
      "cell_type": "code",
      "metadata": {
        "id": "DMZHLGknR1j8"
      },
      "source": [
        "%matplotlib inline\n",
        "import matplotlib.image as mpimg\n",
        "import numpy as np\n",
        "import matplotlib.pyplot as plt\n",
        "import os,sys\n",
        "from PIL import Image\n",
        "\n",
        "from keras.preprocessing.image import ImageDataGenerator\n",
        "from skimage import io\n",
        "\n",
        "import tensorflow as tf\n",
        "from tensorflow import keras\n",
        "\n",
        "from sklearn.feature_extraction import image\n",
        "\n",
        "#import kerastuner as kt\n",
        "\n",
        "from sklearn.model_selection import train_test_split\n",
        "from keras.utils import to_categorical\n",
        "from tensorflow.keras import regularizers\n",
        "\n",
        "from data_augmentation import *\n",
        "from load_helpers import *"
      ],
      "execution_count": 1,
      "outputs": []
    },
    {
      "cell_type": "code",
      "metadata": {
        "id": "hWvnQ7bJR5e0",
        "outputId": "cf6e9834-2be0-401d-fa56-5dff9b07906a",
        "colab": {
          "base_uri": "https://localhost:8080/",
          "height": 35
        }
      },
      "source": [
        "\"\"\"\n",
        "from google.colab import drive\n",
        "drive.mount('/content/drive')\n",
        "\"\"\""
      ],
      "execution_count": 2,
      "outputs": [
        {
          "output_type": "execute_result",
          "data": {
            "application/vnd.google.colaboratory.intrinsic+json": {
              "type": "string"
            },
            "text/plain": [
              "\"\\nfrom google.colab import drive\\ndrive.mount('/content/drive')\\n\""
            ]
          },
          "metadata": {
            "tags": []
          },
          "execution_count": 2
        }
      ]
    },
    {
      "cell_type": "code",
      "metadata": {
        "id": "_Ws5q6udqeBv"
      },
      "source": [
        "# Loaded a set of images\n",
        "root_dir =os.path.join(\"drive\",\"My Drive\",\"Colab Notebooks\",\"data\", \"training\")\n",
        "\n",
        "image_dir = os.path.join(root_dir, \"images/\")\n",
        "files_im = os.listdir(image_dir)\n",
        "imgs = np.asarray([load_image(image_dir + files_im[i]) for i in range(len(files_im))])\n",
        "\n",
        "gt_dir =  os.path.join(root_dir, \"groundtruth/\")\n",
        "files_gt = os.listdir(gt_dir)\n",
        "gt_imgs = np.asarray([load_image(gt_dir + files_gt[i]) for i in range( len(files_gt))])"
      ],
      "execution_count": null,
      "outputs": []
    },
    {
      "cell_type": "code",
      "metadata": {
        "id": "fbHCYeS0R1kJ"
      },
      "source": [
        "#run it only once !!!!!!!!! \n",
        "#if you wanna run again delete  9dom augmented files!!!!!!!\n",
        "\n",
        "max_iters=30\n",
        "augment_dataset(imgs,gt_imgs,image_dir,gt_dir,max_iters)\n"
      ],
      "execution_count": 3,
      "outputs": []
    },
    {
      "cell_type": "code",
      "metadata": {
        "id": "T0P0PpWTR1kU"
      },
      "source": [
        "# Loaded a set of images\n",
        "files_im = os.listdir(image_dir)\n",
        "imgs = np.asarray([load_image(image_dir + files_im[i]) for i in range(len(files_im))])\n",
        "\n",
        "files_gt = os.listdir(gt_dir)\n",
        "gt_imgs = np.asarray([load_image(gt_dir + files_gt[i]) for i in range( len(files_gt))])"
      ],
      "execution_count": 4,
      "outputs": []
    },
    {
      "cell_type": "code",
      "metadata": {
        "id": "LMqZj-zSR1ki"
      },
      "source": [
        "n = len(imgs)\n",
        "\n",
        "# Extract patches from input images\n",
        "patch_size = 16 # each patch is 16*16 pixels\n",
        "\n",
        "img_patches = [img_crop(imgs[i], patch_size, patch_size) for i in range(n)]\n",
        "gt_patches = [img_crop(gt_imgs[i], patch_size, patch_size) for i in range(n)]\n",
        "\n",
        "# Linearize list of patches\n",
        "img_patches = np.asarray([img_patches[i][j] for i in range(len(img_patches)) for j in range(len(img_patches[i]))])\n",
        "gt_patches =  np.asarray([gt_patches[i][j] for i in range(len(gt_patches)) for j in range(len(gt_patches[i]))])"
      ],
      "execution_count": 8,
      "outputs": []
    },
    {
      "cell_type": "code",
      "metadata": {
        "id": "dZ91DTAJR1k1"
      },
      "source": [
        "# Compute features for each image patch\n",
        "foreground_threshold = 0.25 # percentage of pixels > 1 required to assign a foreground label to a patch\n",
        "X = np.asarray([ img_patches[i] for i in range(len(img_patches))])\n",
        "Y = np.asarray([value_to_class_NN(gt_patches[i],foreground_threshold) for i in range(len(gt_patches))])"
      ],
      "execution_count": 9,
      "outputs": []
    },
    {
      "cell_type": "code",
      "metadata": {
        "id": "4SAG4kMKUIaa"
      },
      "source": [
        "#split train test\n",
        "test_ratio=0.2\n",
        "random_state=0\n",
        "X_train,X_test,Y_train,Y_test=train_test_split(X,Y, test_size=test_ratio, random_state=random_state)"
      ],
      "execution_count": 10,
      "outputs": []
    },
    {
      "cell_type": "code",
      "metadata": {
        "id": "peH5TZ6qTSiE"
      },
      "source": [
        ""
      ],
      "execution_count": 11,
      "outputs": []
    },
    {
      "cell_type": "code",
      "metadata": {
        "id": "ro962lSuT8Ga",
        "outputId": "bdd34383-5c4a-4fba-8865-ad194c78eedb",
        "colab": {
          "base_uri": "https://localhost:8080/"
        }
      },
      "source": [
        "#imlement CNN\n",
        "INPUT_SHAPE=(X_train.shape[1],X_train.shape[2],X_train.shape[3])\n",
        "\n",
        "INPUT = keras.layers.Input(shape=INPUT_SHAPE)\n",
        "\n",
        "pool0=keras.layers.AveragePooling2D(pool_size=(2,2),\n",
        "                                    strides=(1,1))(INPUT)\n",
        "                                    \n",
        "conv1 =keras.layers.Conv2D(filters=128,\n",
        "                           kernel_size=(5,5),\n",
        "                           strides=(1,1),\n",
        "                           activation='relu',\n",
        "                           padding='same',\n",
        "                        input_shape=INPUT_SHAPE)(pool0)\n",
        "pool1 = keras.layers.MaxPool2D(pool_size=(2,2),\n",
        "                               padding='same')(conv1)\n",
        "drop1 = keras.layers.Dropout(0.2)(pool1)\n",
        "\n",
        "conv2 =  keras.layers.Conv2D(filters=256,\n",
        "                           kernel_size=(5,5),\n",
        "                           strides=(2,2),\n",
        "                           activation='relu',\n",
        "                           padding='same',\n",
        "                        input_shape=INPUT_SHAPE)(drop1)    \n",
        "pool2 = keras.layers.MaxPool2D(pool_size=(2,2),\n",
        "                               padding='same')(conv2)\n",
        "drop2 = keras.layers.Dropout(0.3)(pool2)\n",
        "\n",
        "\n",
        "conv3 =  keras.layers.Conv2D(filters=64,\n",
        "                           kernel_size=(10,10),\n",
        "                           strides=(2,2),\n",
        "                           activation='relu',\n",
        "                           padding='same',\n",
        "                        input_shape=INPUT_SHAPE)(drop2)  \n",
        "                        \n",
        "pool3 = keras.layers.MaxPool2D(pool_size=(2,2),\n",
        "                               padding='same')(drop2)\n",
        "drop3 = keras.layers.Dropout(0.3)(pool3)\n",
        "\n",
        "flat = keras.layers.Flatten()(drop3)\n",
        "\n",
        "dense1 = keras.layers.Dense(32,\n",
        "                            kernel_regularizer=tf.keras.regularizers.l1(0.01),\n",
        "                            activation='softmax')(flat)\n",
        "\n",
        "dense2 = keras.layers.Dense(2,\n",
        "                            kernel_regularizer=tf.keras.regularizers.l1(0.01),\n",
        "                            activation='sigmoid')(dense1)\n",
        "\n",
        "model = keras.Model(inputs=INPUT,outputs=dense2)\n",
        "print(model.summary())\n",
        "model.compile(optimizer='adam', metrics=['accuracy'], loss='categorical_crossentropy')"
      ],
      "execution_count": 12,
      "outputs": [
        {
          "output_type": "stream",
          "text": [
            "Model: \"functional_1\"\n",
            "_________________________________________________________________\n",
            "Layer (type)                 Output Shape              Param #   \n",
            "=================================================================\n",
            "input_1 (InputLayer)         [(None, 40, 40, 3)]       0         \n",
            "_________________________________________________________________\n",
            "average_pooling2d (AveragePo (None, 39, 39, 3)         0         \n",
            "_________________________________________________________________\n",
            "conv2d (Conv2D)              (None, 39, 39, 128)       9728      \n",
            "_________________________________________________________________\n",
            "max_pooling2d (MaxPooling2D) (None, 20, 20, 128)       0         \n",
            "_________________________________________________________________\n",
            "dropout (Dropout)            (None, 20, 20, 128)       0         \n",
            "_________________________________________________________________\n",
            "conv2d_1 (Conv2D)            (None, 10, 10, 256)       819456    \n",
            "_________________________________________________________________\n",
            "max_pooling2d_1 (MaxPooling2 (None, 5, 5, 256)         0         \n",
            "_________________________________________________________________\n",
            "dropout_1 (Dropout)          (None, 5, 5, 256)         0         \n",
            "_________________________________________________________________\n",
            "max_pooling2d_2 (MaxPooling2 (None, 3, 3, 256)         0         \n",
            "_________________________________________________________________\n",
            "dropout_2 (Dropout)          (None, 3, 3, 256)         0         \n",
            "_________________________________________________________________\n",
            "flatten (Flatten)            (None, 2304)              0         \n",
            "_________________________________________________________________\n",
            "dense (Dense)                (None, 32)                73760     \n",
            "_________________________________________________________________\n",
            "dense_1 (Dense)              (None, 2)                 66        \n",
            "=================================================================\n",
            "Total params: 903,010\n",
            "Trainable params: 903,010\n",
            "Non-trainable params: 0\n",
            "_________________________________________________________________\n",
            "None\n"
          ],
          "name": "stdout"
        }
      ]
    },
    {
      "cell_type": "code",
      "metadata": {
        "id": "O0aTv7HsT8JO",
        "outputId": "2a181e5b-febb-4dc7-8ee1-006234c1bc7b",
        "colab": {
          "base_uri": "https://localhost:8080/"
        }
      },
      "source": [
        "model.fit(X_train, Y_train, epochs=3, batch_size=64)"
      ],
      "execution_count": 13,
      "outputs": [
        {
          "output_type": "stream",
          "text": [
            "Epoch 1/3\n",
            "185/185 [==============================] - 186s 1s/step - loss: 2.6985 - accuracy: 0.6590\n",
            "Epoch 2/3\n",
            "185/185 [==============================] - 185s 1000ms/step - loss: 0.7665 - accuracy: 0.6610\n",
            "Epoch 3/3\n",
            "185/185 [==============================] - 189s 1s/step - loss: 0.7523 - accuracy: 0.6610\n"
          ],
          "name": "stdout"
        },
        {
          "output_type": "execute_result",
          "data": {
            "text/plain": [
              "<tensorflow.python.keras.callbacks.History at 0x7fc926013f98>"
            ]
          },
          "metadata": {
            "tags": []
          },
          "execution_count": 13
        }
      ]
    },
    {
      "cell_type": "code",
      "metadata": {
        "id": "EYUct_J_WT6t",
        "outputId": "69b51749-dc90-4715-be66-29b6a4deaf7c",
        "colab": {
          "base_uri": "https://localhost:8080/"
        }
      },
      "source": [
        "test=model.evaluate(X_test,Y_test)"
      ],
      "execution_count": 14,
      "outputs": [
        {
          "output_type": "stream",
          "text": [
            "93/93 [==============================] - 11s 118ms/step - loss: 0.7551 - accuracy: 0.6591\n"
          ],
          "name": "stdout"
        }
      ]
    },
    {
      "cell_type": "code",
      "metadata": {
        "id": "UnY07a7zT8ME"
      },
      "source": [
        ""
      ],
      "execution_count": null,
      "outputs": []
    },
    {
      "cell_type": "code",
      "metadata": {
        "id": "QGlh35zRT8Q2"
      },
      "source": [
        ""
      ],
      "execution_count": 19,
      "outputs": []
    },
    {
      "cell_type": "code",
      "metadata": {
        "id": "KFaxnmU6VjvD"
      },
      "source": [
        ""
      ],
      "execution_count": null,
      "outputs": []
    },
    {
      "cell_type": "code",
      "metadata": {
        "id": "AMigkwNAVj0f"
      },
      "source": [
        ""
      ],
      "execution_count": null,
      "outputs": []
    },
    {
      "cell_type": "code",
      "metadata": {
        "id": "T_Tja7rkR1k6"
      },
      "source": [
        ""
      ],
      "execution_count": 14,
      "outputs": []
    },
    {
      "cell_type": "code",
      "metadata": {
        "id": "T6xto52BR1k_"
      },
      "source": [
        ""
      ],
      "execution_count": 14,
      "outputs": []
    },
    {
      "cell_type": "code",
      "metadata": {
        "id": "B08fvCuvR1lE"
      },
      "source": [
        ""
      ],
      "execution_count": 14,
      "outputs": []
    },
    {
      "cell_type": "code",
      "metadata": {
        "id": "cWaCTDBxR1lK"
      },
      "source": [
        ""
      ],
      "execution_count": 14,
      "outputs": []
    },
    {
      "cell_type": "code",
      "metadata": {
        "id": "5tUWp8voR1lQ"
      },
      "source": [
        ""
      ],
      "execution_count": 14,
      "outputs": []
    },
    {
      "cell_type": "code",
      "metadata": {
        "id": "nU3sKjj4R1lV"
      },
      "source": [
        ""
      ],
      "execution_count": 14,
      "outputs": []
    },
    {
      "cell_type": "code",
      "metadata": {
        "id": "0Mnuvm07R1la"
      },
      "source": [
        ""
      ],
      "execution_count": 14,
      "outputs": []
    },
    {
      "cell_type": "code",
      "metadata": {
        "id": "mXcUKzd8R1lf"
      },
      "source": [
        ""
      ],
      "execution_count": 14,
      "outputs": []
    },
    {
      "cell_type": "code",
      "metadata": {
        "id": "gM16YA8TR1lj"
      },
      "source": [
        "\n"
      ],
      "execution_count": 14,
      "outputs": []
    },
    {
      "cell_type": "code",
      "metadata": {
        "id": "hWUdeiQmR1lp"
      },
      "source": [
        ""
      ],
      "execution_count": null,
      "outputs": []
    }
  ]
}