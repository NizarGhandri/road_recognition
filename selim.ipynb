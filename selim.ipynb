{
 "cells": [
  {
   "cell_type": "code",
   "execution_count": 1,
   "metadata": {},
   "outputs": [],
   "source": [
    "\n",
    "%matplotlib inline\n",
    "import matplotlib.image as mpimg\n",
    "import numpy as np\n",
    "import matplotlib.pyplot as plt\n",
    "import os,sys\n",
    "from PIL import Image\n",
    "from load_helpers import *\n",
    "\n",
    "from keras.preprocessing.image import ImageDataGenerator\n",
    "from skimage import io\n",
    "\n",
    "import tensorflow as tf\n",
    "from tensorflow import keras\n",
    "import kerastuner as kt\n",
    "\n",
    "from sklearn.model_selection import train_test_split\n",
    "from keras.utils import to_categorical"
   ]
  },
  {
   "cell_type": "code",
   "execution_count": null,
   "metadata": {},
   "outputs": [],
   "source": []
  },
  {
   "cell_type": "code",
   "execution_count": null,
   "metadata": {},
   "outputs": [],
   "source": []
  },
  {
   "cell_type": "code",
   "execution_count": null,
   "metadata": {},
   "outputs": [],
   "source": []
  },
  {
   "cell_type": "code",
   "execution_count": null,
   "metadata": {},
   "outputs": [],
   "source": []
  },
  {
   "cell_type": "markdown",
   "metadata": {},
   "source": [
    "## convolutional neural network with uatomatic hyperparameter tuning:"
   ]
  },
  {
   "cell_type": "markdown",
   "metadata": {},
   "source": [
    "import keras tuner : library to pick best hyper parameteres.  "
   ]
  },
  {
   "cell_type": "code",
   "execution_count": null,
   "metadata": {},
   "outputs": [],
   "source": []
  },
  {
   "cell_type": "code",
   "execution_count": null,
   "metadata": {},
   "outputs": [],
   "source": []
  },
  {
   "cell_type": "code",
   "execution_count": null,
   "metadata": {},
   "outputs": [],
   "source": []
  },
  {
   "cell_type": "code",
   "execution_count": 14,
   "metadata": {},
   "outputs": [],
   "source": [
    "################### DATA ON LAISSSEE PAS ZIP???\n",
    "\n",
    "# Loaded images\n",
    "\n",
    "root_dir =os.path.join(\"data\", \"training\")\n",
    "\n",
    "image_dir = os.path.join(root_dir, \"images/\")\n",
    "files = os.listdir(image_dir)\n",
    "\n",
    "imgs = [load_image(image_dir + files[i]) for i in range(len(files))]\n",
    "\n",
    "gt_dir =  os.path.join(root_dir, \"groundtruth/\")\n",
    "\n",
    "gt_imgs = [load_image(gt_dir + files[i]) for i in range( len(files))]\n",
    "\n",
    "\n"
   ]
  },
  {
   "cell_type": "code",
   "execution_count": 15,
   "metadata": {},
   "outputs": [
    {
     "data": {
      "text/plain": [
       "(100, 400, 400, 3)"
      ]
     },
     "execution_count": 15,
     "metadata": {},
     "output_type": "execute_result"
    }
   ],
   "source": [
    "np.array(imgs).shape"
   ]
  },
  {
   "cell_type": "code",
   "execution_count": 16,
   "metadata": {},
   "outputs": [],
   "source": [
    "imgs_=np.array(imgs)"
   ]
  },
  {
   "cell_type": "code",
   "execution_count": 17,
   "metadata": {},
   "outputs": [
    {
     "data": {
      "text/plain": [
       "(100, 400, 400)"
      ]
     },
     "execution_count": 17,
     "metadata": {},
     "output_type": "execute_result"
    }
   ],
   "source": [
    "np.array(gt_imgs).shape"
   ]
  },
  {
   "cell_type": "code",
   "execution_count": 18,
   "metadata": {},
   "outputs": [],
   "source": []
  },
  {
   "cell_type": "code",
   "execution_count": 19,
   "metadata": {},
   "outputs": [],
   "source": [
    "test_ratio=0.8\n",
    "random_state=0\n",
    "imgs_train,imgs_test,gt_imgs_train,gt_imgs_test=train_test_split(np.array(imgs_),\\\n",
    "                    to_categorical(gt_imgs), test_size=test_ratio, random_state=random_state)"
   ]
  },
  {
   "cell_type": "code",
   "execution_count": null,
   "metadata": {},
   "outputs": [],
   "source": []
  },
  {
   "cell_type": "code",
   "execution_count": 35,
   "metadata": {},
   "outputs": [
    {
     "name": "stdout",
     "output_type": "stream",
     "text": [
      "x shape :  400 , y shape : 400\n"
     ]
    }
   ],
   "source": [
    "size_x=imgs_.shape[1]\n",
    "size_y=imgs_.shape[2]\n",
    "nb_colors=imgs_.shape[3]\n",
    "print(\"x shape : \",size_x,\", y shape :\", size_y)"
   ]
  },
  {
   "cell_type": "code",
   "execution_count": 40,
   "metadata": {},
   "outputs": [],
   "source": [
    "INPUT_SHAPE=(size_x,size_y,nb_colors)\n",
    "\n",
    "INPUT=keras.layers.Input(shape=INPUT_SHAPE)\n",
    "c1=keras.layers.Conv2D(filters=32, kernel_size=(3,3), activation='relu', padding='same',\\\n",
    "                        input_shape=INPUT_SHAPE)(INPUT)\n",
    "\n",
    "c2=keras.layers.Conv2D(filters=16, kernel_size=(3,3), activation='relu', padding='same')(c1)\n",
    "\n",
    "#flat=keras.layers.Flatten()(c2)\n",
    "\n",
    "OUTPUT=keras.layers.Conv2D(1,(1,1),activation='sigmoid')(c2)\n",
    "\n",
    "model = keras.Model(inputs=INPUT,outputs=OUTPUT)\n",
    "model.compile(optimizer='adam', metrics=['accuracy'], loss='categorical_crossentropy')"
   ]
  },
  {
   "cell_type": "code",
   "execution_count": 41,
   "metadata": {},
   "outputs": [
    {
     "name": "stdout",
     "output_type": "stream",
     "text": [
      "Epoch 1/10\n",
      "2/2 [==============================] - ETA: 0s - loss: 1.1921e-07 - accuracy: 0.99 - ETA: 0s - loss: 1.1921e-07 - accuracy: 0.99 - 1s 364ms/step - loss: 1.1921e-07 - accuracy: 0.9966\n",
      "Epoch 2/10\n",
      "2/2 [==============================] - ETA: 0s - loss: 1.1921e-07 - accuracy: 0.99 - ETA: 0s - loss: 1.1921e-07 - accuracy: 0.99 - 1s 360ms/step - loss: 1.1921e-07 - accuracy: 0.9966\n",
      "Epoch 3/10\n",
      "2/2 [==============================] - ETA: 0s - loss: 1.1921e-07 - accuracy: 0.99 - ETA: 0s - loss: 1.1921e-07 - accuracy: 0.99 - 1s 354ms/step - loss: 1.1921e-07 - accuracy: 0.9966\n",
      "Epoch 4/10\n",
      "2/2 [==============================] - ETA: 0s - loss: 1.1921e-07 - accuracy: 0.99 - ETA: 0s - loss: 1.1921e-07 - accuracy: 0.99 - 1s 349ms/step - loss: 1.1921e-07 - accuracy: 0.9966\n",
      "Epoch 5/10\n",
      "2/2 [==============================] - ETA: 0s - loss: 1.1921e-07 - accuracy: 0.99 - ETA: 0s - loss: 1.1921e-07 - accuracy: 0.99 - 1s 368ms/step - loss: 1.1921e-07 - accuracy: 0.9966\n",
      "Epoch 6/10\n",
      "2/2 [==============================] - ETA: 0s - loss: 1.1921e-07 - accuracy: 0.99 - ETA: 0s - loss: 1.1921e-07 - accuracy: 0.99 - 1s 377ms/step - loss: 1.1921e-07 - accuracy: 0.9966\n",
      "Epoch 7/10\n",
      "2/2 [==============================] - ETA: 0s - loss: 1.1921e-07 - accuracy: 0.99 - ETA: 0s - loss: 1.1921e-07 - accuracy: 0.99 - 1s 376ms/step - loss: 1.1921e-07 - accuracy: 0.9966\n",
      "Epoch 8/10\n",
      "2/2 [==============================] - ETA: 0s - loss: 1.1921e-07 - accuracy: 0.99 - ETA: 0s - loss: 1.1921e-07 - accuracy: 0.99 - 1s 377ms/step - loss: 1.1921e-07 - accuracy: 0.9966\n",
      "Epoch 9/10\n",
      "2/2 [==============================] - ETA: 0s - loss: 1.1921e-07 - accuracy: 0.99 - ETA: 0s - loss: 1.1921e-07 - accuracy: 0.99 - 1s 382ms/step - loss: 1.1921e-07 - accuracy: 0.9966\n",
      "Epoch 10/10\n",
      "2/2 [==============================] - ETA: 0s - loss: 1.1921e-07 - accuracy: 0.99 - ETA: 0s - loss: 1.1921e-07 - accuracy: 0.99 - 1s 393ms/step - loss: 1.1921e-07 - accuracy: 0.9966\n"
     ]
    },
    {
     "data": {
      "text/plain": [
       "<tensorflow.python.keras.callbacks.History at 0x7f6c16d96f10>"
      ]
     },
     "execution_count": 41,
     "metadata": {},
     "output_type": "execute_result"
    }
   ],
   "source": [
    "model.fit(x=np.array(imgs_train), y=np.array(gt_imgs_train), epochs=10, batch_size=16)"
   ]
  },
  {
   "cell_type": "code",
   "execution_count": 23,
   "metadata": {},
   "outputs": [
    {
     "name": "stdout",
     "output_type": "stream",
     "text": [
      "3/3 [==============================] - ETA: 0s - loss: 1.1921e-07 - accuracy: 0.99 - ETA: 0s - loss: 1.1921e-07 - accuracy: 0.99 - ETA: 0s - loss: 1.1921e-07 - accuracy: 0.99 - 2s 521ms/step - loss: 1.1921e-07 - accuracy: 0.9911\n"
     ]
    }
   ],
   "source": [
    "test=model.evaluate(imgs_test,gt_imgs_test)"
   ]
  },
  {
   "cell_type": "code",
   "execution_count": 24,
   "metadata": {},
   "outputs": [
    {
     "name": "stdout",
     "output_type": "stream",
     "text": [
      "teeeeeessssssstttttttt :::: 0.9911280274391174\n"
     ]
    }
   ],
   "source": [
    "print(\"teeeeeessssssstttttttt ::::\", test[1])"
   ]
  },
  {
   "cell_type": "markdown",
   "metadata": {},
   "source": [
    "## !!!!!!!!!!!! change enormement d'une iteration a lautrre"
   ]
  },
  {
   "cell_type": "code",
   "execution_count": null,
   "metadata": {},
   "outputs": [],
   "source": []
  },
  {
   "cell_type": "code",
   "execution_count": null,
   "metadata": {},
   "outputs": [],
   "source": []
  },
  {
   "cell_type": "code",
   "execution_count": null,
   "metadata": {},
   "outputs": [],
   "source": []
  },
  {
   "cell_type": "code",
   "execution_count": null,
   "metadata": {},
   "outputs": [],
   "source": []
  },
  {
   "cell_type": "code",
   "execution_count": null,
   "metadata": {},
   "outputs": [],
   "source": []
  },
  {
   "cell_type": "code",
   "execution_count": null,
   "metadata": {},
   "outputs": [],
   "source": []
  }
 ],
 "metadata": {
  "kernelspec": {
   "display_name": "Python 3",
   "language": "python",
   "name": "python3"
  },
  "language_info": {
   "codemirror_mode": {
    "name": "ipython",
    "version": 3
   },
   "file_extension": ".py",
   "mimetype": "text/x-python",
   "name": "python",
   "nbconvert_exporter": "python",
   "pygments_lexer": "ipython3",
   "version": "3.7.4"
  }
 },
 "nbformat": 4,
 "nbformat_minor": 2
}
