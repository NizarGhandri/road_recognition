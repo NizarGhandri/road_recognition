{
 "cells": [
  {
   "cell_type": "code",
   "execution_count": 1,
   "metadata": {
    "colab": {
     "base_uri": "https://localhost:8080/"
    },
    "id": "SaIOqKseowDW",
    "outputId": "5c28df0d-bec3-43bc-d5ea-f29ee2649705"
   },
   "outputs": [
    {
     "name": "stdout",
     "output_type": "stream",
     "text": [
      "Mounted at /content/drive\n"
     ]
    }
   ],
   "source": [
    "from google.colab import drive\n",
    "drive.mount ('/content/drive')"
   ]
  },
  {
   "cell_type": "code",
   "execution_count": 1,
   "metadata": {
    "colab": {
     "base_uri": "https://localhost:8080/"
    },
    "id": "r5pwiimqpDCz",
    "outputId": "d4a19358-54e3-4e51-b621-24590d4e54a5"
   },
   "outputs": [
    {
     "name": "stdout",
     "output_type": "stream",
     "text": [
      "/content/drive/My Drive/Colab Notebooks/ML_proj2\n"
     ]
    }
   ],
   "source": [
    "cd \"drive/My Drive/Colab Notebooks/ML_proj2\""
   ]
  },
  {
   "cell_type": "code",
   "execution_count": 2,
   "metadata": {
    "id": "mCrC0o8BpDLj"
   },
   "outputs": [],
   "source": [
    "%matplotlib inline\n",
    "import matplotlib.image as mpimg\n",
    "import numpy as np\n",
    "import matplotlib.pyplot as plt\n",
    "import os,sys\n",
    "from PIL import Image\n",
    "\n",
    "from keras.preprocessing.image import ImageDataGenerator\n",
    "from skimage import io\n",
    "\n",
    "import tensorflow as tf\n",
    "from tensorflow import keras\n",
    "\n",
    "from sklearn.feature_extraction import image\n",
    "\n",
    "#import kerastuner as kt\n",
    "\n",
    "from sklearn.model_selection import train_test_split\n",
    "from keras.utils import to_categorical\n",
    "from tensorflow.keras import regularizers\n",
    "\n",
    "from preprocess_data import *"
   ]
  },
  {
   "cell_type": "code",
   "execution_count": 4,
   "metadata": {
    "colab": {
     "base_uri": "https://localhost:8080/"
    },
    "id": "sslf5_RVpDQ-",
    "outputId": "39248fff-62ab-4f83-d86e-e83f4bf3c806"
   },
   "outputs": [
    {
     "name": "stdout",
     "output_type": "stream",
     "text": [
      "here 2\n"
     ]
    }
   ],
   "source": [
    "root_dir =os.path.join(\"data\", \"training\")\n",
    "\n",
    "X_train,X_test,Y_train,Y_test= preprocess(root_dir, max_iters=30 , random_state=0,\n",
    "                              test_ratio=0.2, foreground_threshold=0.25)"
   ]
  },
  {
   "cell_type": "code",
   "execution_count": null,
   "metadata": {
    "id": "feElbZ-IrZz1"
   },
   "outputs": [],
   "source": [
    "#imlement CNN\n",
    "INPUT_SHAPE=(X_train.shape[1],X_train.shape[2],X_train.shape[3])\n",
    "\n",
    "#Input layer\n",
    "INPUT = keras.layers.Input(shape=INPUT_SHAPE)\n",
    "\n",
    "pool0=keras.layers.AveragePooling2D(pool_size=(2,2),\n",
    "                                    strides=(1,1))(INPUT)\n",
    "                                    \n",
    "conv1 =keras.layers.Conv2D(filters=128,\n",
    "                           kernel_size=(5,5),\n",
    "                           strides=(1,1),\n",
    "                           activation='relu',\n",
    "                           padding='same',\n",
    "                        input_shape=INPUT_SHAPE)(pool0)\n",
    "\n",
    "pool1 = keras.layers.MaxPool2D(pool_size=(2,2),\n",
    "                               padding='same')(conv1)\n",
    "drop1 = keras.layers.Dropout(0.2)(pool1)\n",
    "\n",
    "conv2 =  keras.layers.Conv2D(filters=256,\n",
    "                           kernel_size=(5,5),\n",
    "                           strides=(2,2),\n",
    "                           activation='relu',\n",
    "                           padding='same',\n",
    "                        input_shape=INPUT_SHAPE)(drop1)    \n",
    "pool2 = keras.layers.MaxPool2D(pool_size=(2,2),\n",
    "                               padding='same')(conv2)\n",
    "drop2 = keras.layers.Dropout(0.3)(pool2)\n",
    "\n",
    "\n",
    "conv3 =  keras.layers.Conv2D(filters=64,\n",
    "                           kernel_size=(10,10),\n",
    "                           strides=(2,2),\n",
    "                           activation='relu',\n",
    "                           padding='same',\n",
    "                        input_shape=INPUT_SHAPE)(drop2)  \n",
    "                        \n",
    "pool3 = keras.layers.MaxPool2D(pool_size=(2,2),\n",
    "                               padding='same')(drop2)\n",
    "drop3 = keras.layers.Dropout(0.3)(pool3)\n",
    "\n",
    "flat = keras.layers.Flatten()(drop3)\n",
    "\n",
    "dense1 = keras.layers.Dense(32,\n",
    "                            kernel_regularizer=tf.keras.regularizers.l1(0.01),\n",
    "                            activation='softmax')(flat)\n",
    "\n",
    "dense2 = keras.layers.Dense(2,\n",
    "                            kernel_regularizer=tf.keras.regularizers.l1(0.01),\n",
    "                            activation='sigmoid')(dense1)\n",
    "\n",
    "model = keras.Model(inputs=INPUT,outputs=dense2)\n",
    "print(model.summary())\n",
    "model.compile(optimizer='adam', metrics=['accuracy'], loss='categorical_crossentropy')"
   ]
  },
  {
   "cell_type": "code",
   "execution_count": null,
   "metadata": {
    "id": "cSoHqc4PreSl"
   },
   "outputs": [],
   "source": [
    "model.fit(X_train, Y_train, epochs=3, batch_size=64)"
   ]
  },
  {
   "cell_type": "code",
   "execution_count": null,
   "metadata": {
    "id": "4tSfZInHrhY9"
   },
   "outputs": [],
   "source": [
    "test=model.evaluate(X_test,Y_test)"
   ]
  }
 ],
 "metadata": {
  "colab": {
   "name": "cnn_model.ipynb",
   "provenance": []
  },
  "kernelspec": {
   "display_name": "Python 3",
   "language": "python",
   "name": "python3"
  },
  "language_info": {
   "codemirror_mode": {
    "name": "ipython",
    "version": 3
   },
   "file_extension": ".py",
   "mimetype": "text/x-python",
   "name": "python",
   "nbconvert_exporter": "python",
   "pygments_lexer": "ipython3",
   "version": "3.7.6"
  }
 },
 "nbformat": 4,
 "nbformat_minor": 1
}
